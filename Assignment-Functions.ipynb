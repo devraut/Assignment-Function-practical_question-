{
 "cells": [
  {
   "cell_type": "code",
   "execution_count": 17,
   "id": "5b8b6966",
   "metadata": {},
   "outputs": [
    {
     "name": "stdout",
     "output_type": "stream",
     "text": [
      "Original list of numbers: [1, 2, 3, 4, 5, 6, 7, 8, 9]\n",
      "Even numbers from original list of numbers: [2, 4, 6, 8]\n"
     ]
    }
   ],
   "source": [
    "'''Q.1.Write a Python function that takes a list of numbers as input and returns the sum of all even numbers in\n",
    "the list.\n",
    "'''\n",
    "num_list=[i for i in range(1,10)]\n",
    "\n",
    "print(\"Original list of numbers:\",num_list)\n",
    "print(\"Even numbers from original list of numbers:\",list(filter(lambda a:a%2==0,num_list)))"
   ]
  },
  {
   "cell_type": "code",
   "execution_count": 38,
   "id": "0defdd62",
   "metadata": {},
   "outputs": [
    {
     "data": {
      "text/plain": [
       "'veD'"
      ]
     },
     "execution_count": 38,
     "metadata": {},
     "output_type": "execute_result"
    }
   ],
   "source": [
    "'''Q.2.Create a Python function that accepts a string and returns the reverse of that string.\n",
    "'''\n",
    "def reverse(string):\n",
    "    rev_string=string[-1:-(len(string)+1):-1]\n",
    "    return rev_string\n",
    "reverse(\"Dev\")"
   ]
  },
  {
   "cell_type": "code",
   "execution_count": 50,
   "id": "39bb8679",
   "metadata": {},
   "outputs": [
    {
     "data": {
      "text/plain": [
       "'ved'"
      ]
     },
     "execution_count": 50,
     "metadata": {},
     "output_type": "execute_result"
    }
   ],
   "source": [
    "f=lambda a:a[::-1]\n",
    "f(\"dev\")"
   ]
  },
  {
   "cell_type": "code",
   "execution_count": 65,
   "id": "53792207",
   "metadata": {},
   "outputs": [
    {
     "name": "stdout",
     "output_type": "stream",
     "text": [
      "List of integer: [2, 3, 4]\n",
      "Square of given list elements: [4, 9, 16]\n"
     ]
    }
   ],
   "source": [
    "'''.Q.3.Implement a Python function that takes a list of integers and returns a new list containing the squares of\n",
    "each number.\n",
    "'''\n",
    "int_list=[2,3,4]\n",
    "print(\"List of integer:\",int_list)\n",
    "print(\"Square of given list elements:\",list(map(lambda x:x**2,int_list)))"
   ]
  },
  {
   "cell_type": "code",
   "execution_count": 110,
   "id": "bb5437a7",
   "metadata": {},
   "outputs": [
    {
     "name": "stdout",
     "output_type": "stream",
     "text": [
      "Prime number's between 1 to 200 are: [2, 3, 5, 7, 11, 13, 17, 19, 23, 29, 31, 37, 41, 43, 47, 53, 59, 61, 67, 71, 73, 79, 83, 89, 97, 101, 103, 107, 109, 113, 127, 131, 137, 139, 149, 151, 157, 163, 167, 173, 179, 181, 191, 193, 197, 199]\n"
     ]
    }
   ],
   "source": [
    "'''.Q.4.Write a Python function that checks if a given number is prime or not from 1 to 200.\n",
    "'''\n",
    "def prime(x, y):\n",
    "    prime_list = []\n",
    "    for i in range(x, y):\n",
    "        if i == 0 or i == 1:\n",
    "            continue\n",
    "        else:\n",
    "            for j in range(2, int(i)):\n",
    "                if i % j == 0:\n",
    "                    break\n",
    "            else:\n",
    "                prime_list.append(i)\n",
    "    return prime_list\n",
    "print(\"Prime number's between 1 to 200 are:\",prime(1,201))\n",
    "                \n",
    "    "
   ]
  },
  {
   "cell_type": "code",
   "execution_count": 189,
   "id": "8b9f9681",
   "metadata": {},
   "outputs": [
    {
     "name": "stdout",
     "output_type": "stream",
     "text": [
      "Fibonacci number upto 50: [0, 1, 1, 2, 3, 5, 8, 13, 21, 34, 55, 89, 144, 233, 377, 610, 987, 1597, 2584, 4181, 6765, 10946, 17711, 28657, 46368, 75025, 121393, 196418, 317811, 514229, 832040, 1346269, 2178309, 3524578, 5702887, 9227465, 14930352, 24157817, 39088169, 63245986, 102334155, 165580141, 267914296, 433494437, 701408733, 1134903170, 1836311903, 2971215073, 4807526976, 7778742049]\n"
     ]
    }
   ],
   "source": [
    "'''.Q.5.Create an iterator class in Python that generates the Fibonacci sequence up to a specified number of\n",
    "terms.\n",
    "'''\n",
    "def fib(n):\n",
    "    fib_list=[]\n",
    "    for i in range(0,n):\n",
    "        if i==0 or i==1:\n",
    "            fib_list.append(i)\n",
    "        else:\n",
    "            fib_list.append(fib_list[i-2]+fib_list[i-1])\n",
    "    return fib_list\n",
    "print(\"Fibonacci number upto 50:\",fib(50))\n",
    "    "
   ]
  },
  {
   "cell_type": "code",
   "execution_count": 206,
   "id": "79c2fc99",
   "metadata": {},
   "outputs": [
    {
     "name": "stdout",
     "output_type": "stream",
     "text": [
      "the power of 2 in range 5: [2, 4, 8, 16, 32]\n"
     ]
    }
   ],
   "source": [
    "'''.Q.6.. Write a generator function in Python that yields the powers of 2 up to a given exponent.\n",
    "'''\n",
    "def power(n):\n",
    "    for i in range(1,n+1):\n",
    "        yield 2**i\n",
    "print(\"the power of 2 in range 5:\",list(power(5)))"
   ]
  },
  {
   "cell_type": "code",
   "execution_count": 260,
   "id": "b6da2241",
   "metadata": {},
   "outputs": [
    {
     "name": "stdout",
     "output_type": "stream",
     "text": [
      "I am Dev Ranjan Raut\n",
      "I am learning Datascience with generative Ai from pwskills\n",
      "\n"
     ]
    }
   ],
   "source": [
    "'''.Q.7.Implement a generator function that reads a file line by line and yields each line as a string.\n",
    "'''\n",
    "def file():\n",
    "    with open('test.txt',mode='r') as file:\n",
    "        for line in file:\n",
    "            \n",
    "            for i in line.split(\".\"):\n",
    "                \n",
    "                yield i.strip()\n",
    "j=list(file())\n",
    "#i=list(\"test.txt\")\n",
    "#print(i) \n",
    "for string in j:\n",
    "    print(string)\n",
    "\n",
    "    "
   ]
  },
  {
   "cell_type": "code",
   "execution_count": 163,
   "id": "58525683",
   "metadata": {},
   "outputs": [
    {
     "name": "stdout",
     "output_type": "stream",
     "text": [
      "[('fruit', 'apple'), ('name', 'dev'), ('class', 'python')]\n"
     ]
    }
   ],
   "source": [
    "'''.Q.8. Use a lambda function in Python to sort a list of tuples based on the second element of each tuple.\n",
    "'''\n",
    "list_tuple=[(\"name\",\"dev\"),(\"class\",\"python\"),(\"fruit\",\"apple\")]\n",
    "sort_list_tuple=sorted(list_tuple,key=lambda x:x[1])\n",
    "print((sort_list_tuple))"
   ]
  },
  {
   "cell_type": "code",
   "execution_count": 166,
   "id": "85bba8e3",
   "metadata": {},
   "outputs": [
    {
     "name": "stdout",
     "output_type": "stream",
     "text": [
      "List of fahrenheit: [89.6, 91.4, 71.6, 80.6]\n"
     ]
    }
   ],
   "source": [
    "'''.Q.9. Write a Python program that uses `map()` to convert a list of temperatures from Celsius to Fahrenhei\n",
    "'''\n",
    "list_temp=[32,33,22,27]\n",
    "print(\"List of fahrenheit:\",list(map(lambda x:x*(9/5)+32,list_temp)))"
   ]
  },
  {
   "cell_type": "code",
   "execution_count": 190,
   "id": "318fc45f",
   "metadata": {},
   "outputs": [
    {
     "name": "stdout",
     "output_type": "stream",
     "text": [
      "Dv Rnjn Rt\n"
     ]
    }
   ],
   "source": [
    "'''.Q.10. Create a Python program that uses `filter()` to remove all the vowels from a given string.\n",
    "'''\n",
    "string=\"Dev RAnjan Raut\"\n",
    "vowels=['a','e','i','o','u']\n",
    "def vowel_remover(n):\n",
    "    for i in n:\n",
    "        if i.lower() in vowels:\n",
    "            n=n.replace(i,\"\")\n",
    "    return n\n",
    "list_vowel_remover=list(filter(vowel_remover,string))\n",
    "result_str=\"\".join(list_vowel_remover)\n",
    "print(result_str)\n"
   ]
  },
  {
   "cell_type": "code",
   "execution_count": 46,
   "id": "b2c7692d",
   "metadata": {},
   "outputs": [
    {
     "data": {
      "text/plain": [
       "[(34587, 98762, 77226, 88112), (163.8, 284.0, 108.85000000000001, 84.97)]"
      ]
     },
     "execution_count": 46,
     "metadata": {},
     "output_type": "execute_result"
    }
   ],
   "source": [
    "'''.Q.11. Imagine an accounting routine used in a book shop. It works on a list with sublists, which look like this:\n",
    "\n",
    "\n",
    "\n",
    "\n",
    "\n",
    "\n",
    "\n",
    "Write a Python program, which returns a list with 2-tuples. Each tuple consists of the order number and the\n",
    "product of the price per item and the quantity. The product should be increased by 10,- € if the value of the\n",
    "order is smaller than 100,00 €.\n",
    "\n",
    "Write a Python program using lambda and map.\n",
    "'''\n",
    "order_number=(34587,98762,77226,88112)\n",
    "quantity=[4,5,3,3]\n",
    "price_per_item=[40.95,56.80,32.95,24.99]\n",
    "lsi=[]\n",
    "final_price=list(map(lambda a,b:a*b,quantity,price_per_item))\n",
    "for i in range(len(final_price)):\n",
    "    if final_price[i]<100:\n",
    "        final_price[i]+=10\n",
    "final_price=tuple(final_price)\n",
    "lsi.append(order_number)\n",
    "lsi.append(final_price)\n",
    "lsi"
   ]
  },
  {
   "cell_type": "code",
   "execution_count": null,
   "id": "e8fb35cb",
   "metadata": {},
   "outputs": [],
   "source": []
  },
  {
   "cell_type": "code",
   "execution_count": null,
   "id": "70458992",
   "metadata": {},
   "outputs": [],
   "source": []
  },
  {
   "cell_type": "code",
   "execution_count": null,
   "id": "fd03ad24",
   "metadata": {},
   "outputs": [],
   "source": []
  },
  {
   "cell_type": "code",
   "execution_count": null,
   "id": "6eb0085c",
   "metadata": {},
   "outputs": [],
   "source": []
  },
  {
   "cell_type": "code",
   "execution_count": null,
   "id": "65a1377a",
   "metadata": {},
   "outputs": [],
   "source": []
  },
  {
   "cell_type": "code",
   "execution_count": null,
   "id": "e613f3a5",
   "metadata": {},
   "outputs": [],
   "source": []
  },
  {
   "cell_type": "code",
   "execution_count": null,
   "id": "bee60de5",
   "metadata": {},
   "outputs": [],
   "source": []
  },
  {
   "cell_type": "code",
   "execution_count": null,
   "id": "85ba858b",
   "metadata": {},
   "outputs": [],
   "source": []
  }
 ],
 "metadata": {
  "kernelspec": {
   "display_name": "Python 3 (ipykernel)",
   "language": "python",
   "name": "python3"
  },
  "language_info": {
   "codemirror_mode": {
    "name": "ipython",
    "version": 3
   },
   "file_extension": ".py",
   "mimetype": "text/x-python",
   "name": "python",
   "nbconvert_exporter": "python",
   "pygments_lexer": "ipython3",
   "version": "3.11.5"
  }
 },
 "nbformat": 4,
 "nbformat_minor": 5
}
